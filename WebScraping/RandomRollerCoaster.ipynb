{
 "cells": [
  {
   "cell_type": "markdown",
   "metadata": {},
   "source": [
    "# Web-Scraping for Random Roller Coaster "
   ]
  },
  {
   "cell_type": "markdown",
   "metadata": {},
   "source": [
    "import tools needed"
   ]
  },
  {
   "cell_type": "code",
   "execution_count": 1,
   "metadata": {},
   "outputs": [],
   "source": [
    "import os\n",
    "from bs4 import BeautifulSoup as bs\n",
    "import requests\n",
    "from splinter import Browser\n",
    "from bs4 import BeautifulSoup\n",
    "from webdriver_manager.chrome import ChromeDriverManager\n",
    "import pandas as pd"
   ]
  },
  {
   "cell_type": "markdown",
   "metadata": {},
   "source": [
    "create path to browser"
   ]
  },
  {
   "cell_type": "code",
   "execution_count": 2,
   "metadata": {},
   "outputs": [
    {
     "name": "stderr",
     "output_type": "stream",
     "text": [
      "\n",
      "\n",
      "====== WebDriver manager ======\n",
      "Current google-chrome version is 91.0.4472\n",
      "Get LATEST driver version for 91.0.4472\n",
      "Driver [/Users/sydneycavallaro/.wdm/drivers/chromedriver/mac64/91.0.4472.101/chromedriver] found in cache\n"
     ]
    }
   ],
   "source": [
    "executable_path = {'executable_path': ChromeDriverManager().install()}\n",
    "browser = Browser('chrome', **executable_path, headless=False)"
   ]
  },
  {
   "cell_type": "markdown",
   "metadata": {},
   "source": [
    "create library to store data"
   ]
  },
  {
   "cell_type": "code",
   "execution_count": 3,
   "metadata": {},
   "outputs": [],
   "source": [
    "random_coaster = {}"
   ]
  },
  {
   "cell_type": "markdown",
   "metadata": {},
   "source": [
    "connection to URL"
   ]
  },
  {
   "cell_type": "code",
   "execution_count": 4,
   "metadata": {},
   "outputs": [],
   "source": [
    "url = \"https://rcdb.com\"\n",
    "browser.visit(url)"
   ]
  },
  {
   "cell_type": "code",
   "execution_count": 5,
   "metadata": {},
   "outputs": [],
   "source": [
    "browser.find_by_xpath('//*[@id=\"rrc_text\"]/p[1]/a').click()"
   ]
  },
  {
   "cell_type": "markdown",
   "metadata": {},
   "source": [
    "find needed text"
   ]
  },
  {
   "cell_type": "code",
   "execution_count": 6,
   "metadata": {},
   "outputs": [],
   "source": [
    "html = browser.html\n",
    "soup = BeautifulSoup(html, 'html.parser')"
   ]
  },
  {
   "cell_type": "markdown",
   "metadata": {},
   "source": [
    "check to see if it worked"
   ]
  },
  {
   "cell_type": "code",
   "execution_count": 7,
   "metadata": {},
   "outputs": [
    {
     "data": {
      "text/plain": [
       "[<a aria-label=\"Picture\" data-height=\"216\" data-id=\"20014\" data-offset=\"0\" data-url=\"/aabdpuc\" data-width=\"288\" href=\"#\" id=\"opfAnchor\" style='width: 288px; height: 216px; background-size: cover; background-image: url(\"/aabdpuc\");'> </a>,\n",
       " <a href=\"/4738.htm\">Blue Bayou Dixie Landin'</a>,\n",
       " <a href=\"/location.htm?id=8972\">Baton Rouge</a>,\n",
       " <a href=\"/location.htm?id=8571\">Louisiana</a>,\n",
       " <a href=\"/location.htm?id=59\">United States</a>,\n",
       " <a href=\"/g.htm?id=318\">Operated</a>,\n",
       " <a href=\"/g.htm?id=277\">Roller Coaster</a>,\n",
       " <a href=\"/g.htm?id=1\">Steel</a>,\n",
       " <a href=\"/g.htm?id=6\">Sit Down</a>,\n",
       " <a href=\"/g.htm?id=23\">Thrill</a>,\n",
       " <a href=\"/g.htm?id=105\">Spinning Cars</a>,\n",
       " <a href=\"/6905.htm\">Maurer Rides GmbH</a>,\n",
       " <a href=\"/14546.htm\">Spinning Coaster</a>,\n",
       " <a href=\"/8330.htm\">SC2000</a>,\n",
       " <a data-offset=\"-1\" href=\"/3762.htm#p=0\" id=\"pic-lnk\">Pictures</a>,\n",
       " <a data-by=\"by\" data-published=\"Published\" data-target=\"popVidsInner\" data-video-ids=\"mmtxJueBt_M\" data-views=\"Views\" href=\"#\" id=\"vid-lnk\">Videos</a>,\n",
       " <a href=\"#\" id=\"map-lnk\">Maps</a>,\n",
       " <a aria-label=\"Picture\" data-offset=\"0\" href=\"#\" style='background-image: url(\"/aafosm\"); background-position: 0px 0px; height: 100px; width: 100px;'></a>,\n",
       " <a aria-label=\"Picture\" data-offset=\"1\" href=\"#\" style='background-image: url(\"/aafosm\"); background-position: -100px 0px; height: 100px; width: 100px;'></a>,\n",
       " <a aria-label=\"Picture\" data-offset=\"2\" href=\"#\" style='background-image: url(\"/aafosm\"); background-position: -200px 0px; height: 100px; width: 100px;'></a>,\n",
       " <a aria-label=\"Picture\" data-offset=\"3\" href=\"#\" style='background-image: url(\"/aafosm\"); background-position: -300px 0px; height: 100px; width: 100px;'></a>,\n",
       " <a aria-label=\"Picture\" data-offset=\"4\" href=\"#\" style='background-image: url(\"/aafosm\"); background-position: -400px 0px; height: 100px; width: 100px;'></a>,\n",
       " <a aria-label=\"Picture\" data-offset=\"5\" href=\"#\" style='background-image: url(\"/aafosm\"); background-position: -500px 0px; height: 100px; width: 100px;'></a>,\n",
       " <a aria-label=\"Picture\" data-offset=\"6\" href=\"#\" style='background-image: url(\"/aafosm\"); background-position: -600px 0px; height: 100px; width: 100px;'></a>,\n",
       " <a aria-label=\"Picture\" data-offset=\"7\" href=\"#\" style='background-image: url(\"/aafosm\"); background-position: -700px 0px; height: 100px; width: 100px;'></a>,\n",
       " <a aria-label=\"Picture\" data-offset=\"8\" href=\"#\" style='background-image: url(\"/aafosm\"); background-position: -800px 0px; height: 100px; width: 100px;'></a>,\n",
       " <a aria-label=\"Picture\" data-offset=\"9\" href=\"#\" style='background-image: url(\"/aafosm\"); background-position: -900px 0px; height: 100px; width: 100px;'></a>,\n",
       " <a aria-label=\"Picture\" data-offset=\"10\" href=\"#\" style='background-image: url(\"/aafosm\"); background-position: 0px -100px; height: 100px; width: 100px;'></a>,\n",
       " <a aria-label=\"Picture\" data-offset=\"11\" href=\"#\" style='background-image: url(\"/aafosm\"); background-position: -100px -100px; height: 100px; width: 100px;'></a>,\n",
       " <a aria-label=\"Picture\" data-offset=\"12\" href=\"#\" style='background-image: url(\"/aafosm\"); background-position: -200px -100px; height: 100px; width: 100px;'></a>,\n",
       " <a aria-label=\"Picture\" data-offset=\"13\" href=\"#\" style='background-image: url(\"/aafosm\"); background-position: -300px -100px; height: 100px; width: 100px;'></a>,\n",
       " <a aria-label=\"Picture\" data-offset=\"14\" href=\"#\" style='background-image: url(\"/aafosm\"); background-position: -400px -100px; height: 100px; width: 100px;'></a>,\n",
       " <a aria-label=\"Picture\" data-offset=\"15\" href=\"#\" style='background-image: url(\"/aafosm\"); background-position: -500px -100px; height: 100px; width: 100px;'></a>,\n",
       " <a aria-label=\"Picture\" data-offset=\"16\" href=\"#\" style='background-image: url(\"/aafosm\"); background-position: -600px -100px; height: 100px; width: 100px;'></a>,\n",
       " <a aria-label=\"Picture\" data-offset=\"17\" href=\"#\" style='background-image: url(\"/aafosm\"); background-position: -700px -100px; height: 100px; width: 100px;'></a>,\n",
       " <a href=\"/12692.htm\">Chain Lift Hill</a>,\n",
       " <a href=\"/4840.htm\">Drievliet Family Park</a>,\n",
       " <a href=\"/2649.htm\">Xtreme</a>,\n",
       " <a href=\"/4738.htm\">Blue Bayou Dixie Landin'</a>,\n",
       " <a href=\"/3762.htm\">Xtreme</a>,\n",
       " <a href=\"/16828.htm\">Trans Studio Cibubur</a>,\n",
       " <a href=\"/17152.htm\">Alien Taxi</a>,\n",
       " <a class=\"close\" href=\"#\"></a>,\n",
       " <a class=\"bkg\" data-background=\"/40.svg\" data-height=\"48\" data-ratio=\"1\" href=\"https://www.google.com/maps/place/30.346404,-91.027273/@30.346404,-91.027273,976m/data=!3m1!1e3!4m6!3m5!1s0x0:0x0!7e2!8m2!3d30.346404!4d-91.027273\" rel=\"noopener\" style='width: 48px; height: 48px; background-image: url(\"/40.svg\"); background-repeat: no-repeat; background-size: contain; background-position: center center;' target=\"_blank\"></a>,\n",
       " <a class=\"bkg\" data-background=\"/41.svg\" data-height=\"48\" data-ratio=\"1\" href=\"http://www.bing.com/maps/default.aspx?v=2&amp;cp=30.346404~-91.027273&amp;style=h&amp;lvl=17&amp;sp=aN.30.346404_-91.027273_Xtreme&amp;encType=1\" rel=\"noopener\" style='width: 48px; height: 48px; background-image: url(\"/41.svg\"); background-repeat: no-repeat; background-size: contain; background-position: center center;' target=\"_blank\"></a>,\n",
       " <a class=\"bkg\" data-background=\"/35.svg\" data-height=\"48\" data-ratio=\"1\" href=\"https://maps.here.com/?map=30.346404,-91.027273,17,satellite\" rel=\"noopener\" style='width: 48px; height: 48px; background-image: url(\"/35.svg\"); background-repeat: no-repeat; background-size: contain; background-position: center center;' target=\"_blank\"></a>,\n",
       " <a class=\"close\" href=\"#\"></a>,\n",
       " <a aria-label=\"Menu\" class=\"head\" data-close=\"goh\" data-open=\"gox\" data-target=\"menudrop\" href=\"#\" id=\"menu\"><p></p><p></p><p></p><p></p><p></p></a>,\n",
       " <a aria-label=\"Search\" data-aux=\"qsf\" data-focus=\"qs\" data-target=\"lookdrop\" href=\"#\" id=\"look\"><svg viewbox=\"0 0 32 32\" xmlns=\"http://www.w3.org/2000/svg\"><path d=\"M.88,26.87a3,3 1 1 0 4.25,4.25l5.65,-5.65a13.8,13.8 0 1 0 -4.25,-4.25zM26,13.8a7.8,7.8 0 0 1 -15.6,0a7.8,7.8 0 0 1 15.6,0\"></path></svg></a>,\n",
       " <a aria-label=\"Home\" class=\"svg\" href=\"/\" id=\"home\"></a>,\n",
       " <a aria-label=\"What's Nearby\" href=\"/lo.htm\" id=\"find\"><svg viewbox=\"0 0 2 2\" xmlns=\"http://www.w3.org/2000/svg\"><path d=\"M2 0L1 2L1 1L0 1Z\"></path></svg></a>,\n",
       " <a aria-label=\"Preferences\" data-target=\"signdrop\" href=\"#\" id=\"sign\"><svg viewbox=\"0 0 360 360\" xmlns=\"http://www.w3.org/2000/svg\"><circle cx=\"180\" cy=\"180\" fill=\"#00FF00\" fill-opacity=\"0\" id=\"test\" r=\"180\"></circle><path d=\"m180,0 a180,180 0 0 0 0,360 180,180 0 0 0 0,-360Z M70,303 a165,165 0 1 1 220,0 110,110 0 1 0 -220,0z\"></path><circle cx=\"180\" cy=\"133\" r=\"72\"></circle></svg></a>,\n",
       " <a href=\"/r.htm?ot=2&amp;op=2022\">New for 2022</a>,\n",
       " <a href=\"/r.htm?ot=2&amp;op=2021\">New for 2021</a>,\n",
       " <a href=\"/r.htm?ot=2&amp;op=2020\">New for 2020</a>,\n",
       " <a href=\"/census.htm\">Census</a>,\n",
       " <a href=\"/rhr.htm\">Record Holders</a>,\n",
       " <a href=\"/location.htm\">World View</a>,\n",
       " <a href=\"/ib.htm\">Inversions</a>,\n",
       " <a href=\"/os.htm?ot=2\">Roller Coasters</a>,\n",
       " <a href=\"/os.htm?ot=3\">Amusement Parks</a>,\n",
       " <a href=\"/os.htm?ot=12\">Companies</a>,\n",
       " <a href=\"/os.htm?ot=13\">People</a>,\n",
       " <a href=\"/g.htm\">Glossary</a>,\n",
       " <a href=\"/about.htm\">About This Site</a>,\n",
       " <a href=\"/tou.htm\">Terms Of Use</a>,\n",
       " <a href=\"/contact.htm\">Contact Us</a>,\n",
       " <a href=\"#\" id=\"fpw\">Forgot password?</a>]"
      ]
     },
     "execution_count": 7,
     "metadata": {},
     "output_type": "execute_result"
    }
   ],
   "source": [
    "soup.find_all('a')"
   ]
  },
  {
   "cell_type": "code",
   "execution_count": 11,
   "metadata": {},
   "outputs": [
    {
     "data": {
      "text/plain": [
       "'https://rcdb.com/aabdpuc'"
      ]
     },
     "execution_count": 11,
     "metadata": {},
     "output_type": "execute_result"
    }
   ],
   "source": [
    "image_url = soup.find('a')['data-url']\n",
    "featured_image_url = f'{url}{image_url}'\n",
    "featured_image_url"
   ]
  },
  {
   "cell_type": "code",
   "execution_count": 9,
   "metadata": {},
   "outputs": [],
   "source": [
    "coaster_name = soup.find('h1', class_=False, id=False).text\n",
    "park_name = soup.findAll('a')[1].text"
   ]
  },
  {
   "cell_type": "code",
   "execution_count": 10,
   "metadata": {},
   "outputs": [],
   "source": [
    "park_city = soup.findAll('a')[2].text\n",
    "park_city2 = soup.findAll('a')[2]\n",
    "park_state = park_city2.find_next_sibling(\"a\").text\n",
    "park_state2 = park_city2.find_next_sibling(\"a\")\n",
    "park_country = park_state2.find_next_sibling(\"a\").text\n",
    "park_country2 = park_state2.find_next_sibling(\"a\")"
   ]
  },
  {
   "cell_type": "code",
   "execution_count": 11,
   "metadata": {},
   "outputs": [
    {
     "name": "stdout",
     "output_type": "stream",
     "text": [
      "Anubis: The Ride at Plopsaland De Panne located in Adinkerke-De Panne, West Flanders, Flemish Region, Belgium\n"
     ]
    }
   ],
   "source": [
    "try:\n",
    "    park_nation = park_country2.find_next_sibling(\"a\").text\n",
    "    print(f'{coaster_name} at {park_name} located in {park_city}, {park_state}, {park_country}, {park_nation}')\n",
    "    random_coaster['random_name'] = coaster_name\n",
    "    random_coaster['random_park'] = park_name\n",
    "    random_coaster['random_city'] = park_state\n",
    "    random_coaster['random_country'] = park_country\n",
    "    random_coaster['random_nation'] = park_nation\n",
    "except AttributeError:\n",
    "    pass\n",
    "    try:\n",
    "        print(f'{coaster_name} at {park_name} located in {park_city}, {park_state}, {park_country}')\n",
    "        random_coaster['random_name'] = coaster_name\n",
    "        random_coaster['random_park'] = park_name\n",
    "        random_coaster['random_city'] = park_state\n",
    "        random_coaster['random_country'] = park_country\n",
    "    except AttributeError:\n",
    "        pass\n",
    "        try:\n",
    "            print(f'{coaster_name} at {park_name} located in {park_city}, {park_state}')\n",
    "            random_coaster['random_name'] = coaster_name\n",
    "            random_coaster['random_park'] = park_name\n",
    "            random_coaster['random_city'] = park_state\n",
    "        except AttributeError:\n",
    "            pass"
   ]
  },
  {
   "cell_type": "code",
   "execution_count": 12,
   "metadata": {},
   "outputs": [
    {
     "data": {
      "text/plain": [
       "{'random_image': 'https://rcdb.com#',\n",
       " 'random_name': 'Anubis: The Ride',\n",
       " 'random_park': 'Plopsaland De Panne',\n",
       " 'random_city': 'West Flanders',\n",
       " 'random_country': 'Flemish Region',\n",
       " 'random_nation': 'Belgium'}"
      ]
     },
     "execution_count": 12,
     "metadata": {},
     "output_type": "execute_result"
    }
   ],
   "source": [
    "random_coaster"
   ]
  },
  {
   "cell_type": "code",
   "execution_count": null,
   "metadata": {},
   "outputs": [],
   "source": []
  }
 ],
 "metadata": {
  "kernelspec": {
   "display_name": "Python [conda env:PythonData] *",
   "language": "python",
   "name": "conda-env-PythonData-py"
  },
  "language_info": {
   "codemirror_mode": {
    "name": "ipython",
    "version": 3
   },
   "file_extension": ".py",
   "mimetype": "text/x-python",
   "name": "python",
   "nbconvert_exporter": "python",
   "pygments_lexer": "ipython3",
   "version": "3.6.10"
  }
 },
 "nbformat": 4,
 "nbformat_minor": 4
}
