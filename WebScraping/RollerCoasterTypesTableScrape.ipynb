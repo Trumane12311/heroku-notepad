{
 "cells": [
  {
   "cell_type": "markdown",
   "metadata": {},
   "source": [
    "# Web Scraping for Different Types of Roller Coasters"
   ]
  },
  {
   "cell_type": "code",
   "execution_count": 98,
   "metadata": {},
   "outputs": [],
   "source": [
    "import os\n",
    "from bs4 import BeautifulSoup as bs\n",
    "import requests\n",
    "from splinter import Browser\n",
    "from webdriver_manager.chrome import ChromeDriverManager\n",
    "import pandas as pd, numpy as np, datetime as dt\n",
    "from pprint import pprint\n",
    "import json\n",
    "import re\n",
    "import numpy as np\n"
   ]
  },
  {
   "cell_type": "code",
   "execution_count": 99,
   "metadata": {},
   "outputs": [
    {
     "output_type": "stream",
     "name": "stderr",
     "text": [
      "\n",
      "\n",
      "====== WebDriver manager ======\n",
      "Current google-chrome version is 91.0.4472\n",
      "Get LATEST driver version for 91.0.4472\n",
      "Get LATEST driver version for 91.0.4472\n",
      "Trying to download new driver from https://chromedriver.storage.googleapis.com/91.0.4472.101/chromedriver_mac64.zip\n",
      "Driver has been saved in cache [/Users/bt4ever/.wdm/drivers/chromedriver/mac64/91.0.4472.101]\n"
     ]
    }
   ],
   "source": [
    "executable_path = {'executable_path': ChromeDriverManager().install()}\n",
    "browser = Browser('chrome', **executable_path, headless=False)"
   ]
  },
  {
   "cell_type": "code",
   "execution_count": 100,
   "metadata": {},
   "outputs": [],
   "source": [
    "coaster_types = {}"
   ]
  },
  {
   "cell_type": "code",
   "execution_count": 101,
   "metadata": {},
   "outputs": [],
   "source": [
    "url='https://rcdb.com/r.htm?ot=2'\n",
    "browser.visit(url)"
   ]
  },
  {
   "cell_type": "code",
   "execution_count": 102,
   "metadata": {},
   "outputs": [
    {
     "output_type": "execute_result",
     "data": {
      "text/plain": [
       "[            0                      1\n",
       " 0   Criteria:        Roller Coasters\n",
       " 1      Found:  10671 (Page 1 of 445)\n",
       " 2  Sorted By:         Roller Coaster,\n",
       "     Unnamed: 0                Roller Coaster                   Amusement Park  \\\n",
       " 0          NaN                â¬uro-Coaster                    Wiener Prater   \n",
       " 1          NaN                â¬uro Coaster               Funland Theme Park   \n",
       " 2          NaN                          1066                        Festyland   \n",
       " 3          NaN   10 Inversion Roller Coaster               Chimelong Paradise   \n",
       " 4          NaN  1970 Galaxy Rip Tide Coaster    Swampy Jack's Wongo Adventure   \n",
       " 5          NaN                 2 Way Coaster                  Tokyo Dome City   \n",
       " 6          NaN               3 Loops Coaster                     Central Park   \n",
       " 7          NaN         3 Ring Roller Coaster                      Daguan Park   \n",
       " 8          NaN         3 Ring Roller Coaster   Middle Zhejiang Amusement City   \n",
       " 9          NaN                     4 Man Bob                     Alton Towers   \n",
       " 10         NaN                     4 Man Bob                         Trentham   \n",
       " 11         NaN         4 Ring Roller Coaster                      Daguan Park   \n",
       " 12         NaN         4 Ring Roller Coaster                Carde Happy World   \n",
       " 13         NaN         4 Ring Roller Coaster                    Sinma Kingdom   \n",
       " 14         NaN         4 Ring Roller Coaster               Taolin Happy World   \n",
       " 15         NaN         4 Ring Roller Coaster                    Longshan Park   \n",
       " 16         NaN         4 Ring Roller Coaster    Dragon Lake Beach Happy World   \n",
       " 17         NaN         4 Ring Roller Coaster                      Yuqiao Park   \n",
       " 18         NaN                    5 Velocita                        Luna Park   \n",
       " 19         NaN                       7 Picos  Parque de Atracciones de Madrid   \n",
       " 20         NaN                      88 Train            Children's Grand Park   \n",
       " 21         NaN                      88 Train                   Amusement Land   \n",
       " 22         NaN                  Abandon Mine        Uncle Bernie's Theme Park   \n",
       " 23         NaN                        Abismo  Parque de Atracciones de Madrid   \n",
       " \n",
       "      Type     Design     Status Opened  \n",
       " 0   Steel  Suspended          -    NaN  \n",
       " 1   Steel   Sit Down  Operating    NaN  \n",
       " 2   Steel   Sit Down  Operating    NaN  \n",
       " 3   Steel   Sit Down  Operating    NaN  \n",
       " 4   Steel   Sit Down  Relocated    NaN  \n",
       " 5   Steel   Sit Down          -    NaN  \n",
       " 6   Steel   Sit Down  Operating    NaN  \n",
       " 7   Steel   Sit Down  Operating    NaN  \n",
       " 8   Steel   Sit Down  Operating    NaN  \n",
       " 9   Steel   Sit Down  Relocated    NaN  \n",
       " 10  Steel   Sit Down  Relocated      -  \n",
       " 11  Steel   Sit Down  Operating    NaN  \n",
       " 12  Steel   Sit Down  Operating    NaN  \n",
       " 13  Steel   Sit Down  Operating    NaN  \n",
       " 14  Steel   Sit Down  Operating    NaN  \n",
       " 15  Steel   Sit Down          -    NaN  \n",
       " 16  Steel   Sit Down  Operating    NaN  \n",
       " 17  Steel   Sit Down  Operating      -  \n",
       " 18  Steel   Sit Down  Operating    â¤  \n",
       " 19  Steel   Sit Down          -    NaN  \n",
       " 20  Steel   Sit Down          -    NaN  \n",
       " 21  Steel   Sit Down          -      -  \n",
       " 22  Steel   Sit Down  Operating    NaN  \n",
       " 23  Steel   Sit Down  Operating    NaN  ]"
      ]
     },
     "metadata": {},
     "execution_count": 102
    }
   ],
   "source": [
    "html = browser.html\n",
    "soup = bs(html, 'html.parser')\n",
    "#coaster_info = soup.select_one('div', class_='list_text')\n",
    "#coster_info\n",
    "table = pd.read_html(url)\n",
    "table\n"
   ]
  },
  {
   "cell_type": "code",
   "execution_count": 103,
   "metadata": {},
   "outputs": [
    {
     "output_type": "stream",
     "name": "stdout",
     "text": [
      "Number of tables on site:  2\n"
     ]
    }
   ],
   "source": [
    "url = f'https://rcdb.com/r.htm?ot=2'\n",
    "coasters = soup.find_all(\"table\")\n",
    "print(\"Number of tables on site: \",len(coasters))"
   ]
  },
  {
   "cell_type": "code",
   "execution_count": 104,
   "metadata": {},
   "outputs": [
    {
     "output_type": "execute_result",
     "data": {
      "text/plain": [
       "                     Roller Coaster                   Amusement Park   Type  \\\n",
       "0                      €uro-Coaster                    Wiener Prater  Steel   \n",
       "1                      €uro Coaster               Funland Theme Park  Steel   \n",
       "2                              1066                        Festyland  Steel   \n",
       "3       10 Inversion Roller Coaster               Chimelong Paradise  Steel   \n",
       "4      1970 Galaxy Rip Tide Coaster    Swampy Jack's Wongo Adventure  Steel   \n",
       "...                             ...                              ...    ...   \n",
       "10675                       7 Picos  Parque de Atracciones de Madrid  Steel   \n",
       "10676                      88 Train            Children's Grand Park  Steel   \n",
       "10677                      88 Train                   Amusement Land  Steel   \n",
       "10678                  Abandon Mine        Uncle Bernie's Theme Park  Steel   \n",
       "10679                        Abismo  Parque de Atracciones de Madrid  Steel   \n",
       "\n",
       "          Design     Status     Opened  \n",
       "0      Suspended          -  5/29/2020  \n",
       "1       Sit Down  Operating       2021  \n",
       "2       Sit Down  Operating  3/27/2005  \n",
       "3       Sit Down  Operating     2/2006  \n",
       "4       Sit Down  Relocated  6/27/2014  \n",
       "...          ...        ...        ...  \n",
       "10675   Sit Down          -  5/15/1969  \n",
       "10676   Sit Down          -       1984  \n",
       "10677   Sit Down          -          -  \n",
       "10678   Sit Down  Operating       2002  \n",
       "10679   Sit Down  Operating  6/27/2006  \n",
       "\n",
       "[10680 rows x 6 columns]"
      ],
      "text/html": "<div>\n<style scoped>\n    .dataframe tbody tr th:only-of-type {\n        vertical-align: middle;\n    }\n\n    .dataframe tbody tr th {\n        vertical-align: top;\n    }\n\n    .dataframe thead th {\n        text-align: right;\n    }\n</style>\n<table border=\"1\" class=\"dataframe\">\n  <thead>\n    <tr style=\"text-align: right;\">\n      <th></th>\n      <th>Roller Coaster</th>\n      <th>Amusement Park</th>\n      <th>Type</th>\n      <th>Design</th>\n      <th>Status</th>\n      <th>Opened</th>\n    </tr>\n  </thead>\n  <tbody>\n    <tr>\n      <th>0</th>\n      <td>€uro-Coaster</td>\n      <td>Wiener Prater</td>\n      <td>Steel</td>\n      <td>Suspended</td>\n      <td>-</td>\n      <td>5/29/2020</td>\n    </tr>\n    <tr>\n      <th>1</th>\n      <td>€uro Coaster</td>\n      <td>Funland Theme Park</td>\n      <td>Steel</td>\n      <td>Sit Down</td>\n      <td>Operating</td>\n      <td>2021</td>\n    </tr>\n    <tr>\n      <th>2</th>\n      <td>1066</td>\n      <td>Festyland</td>\n      <td>Steel</td>\n      <td>Sit Down</td>\n      <td>Operating</td>\n      <td>3/27/2005</td>\n    </tr>\n    <tr>\n      <th>3</th>\n      <td>10 Inversion Roller Coaster</td>\n      <td>Chimelong Paradise</td>\n      <td>Steel</td>\n      <td>Sit Down</td>\n      <td>Operating</td>\n      <td>2/2006</td>\n    </tr>\n    <tr>\n      <th>4</th>\n      <td>1970 Galaxy Rip Tide Coaster</td>\n      <td>Swampy Jack's Wongo Adventure</td>\n      <td>Steel</td>\n      <td>Sit Down</td>\n      <td>Relocated</td>\n      <td>6/27/2014</td>\n    </tr>\n    <tr>\n      <th>...</th>\n      <td>...</td>\n      <td>...</td>\n      <td>...</td>\n      <td>...</td>\n      <td>...</td>\n      <td>...</td>\n    </tr>\n    <tr>\n      <th>10675</th>\n      <td>7 Picos</td>\n      <td>Parque de Atracciones de Madrid</td>\n      <td>Steel</td>\n      <td>Sit Down</td>\n      <td>-</td>\n      <td>5/15/1969</td>\n    </tr>\n    <tr>\n      <th>10676</th>\n      <td>88 Train</td>\n      <td>Children's Grand Park</td>\n      <td>Steel</td>\n      <td>Sit Down</td>\n      <td>-</td>\n      <td>1984</td>\n    </tr>\n    <tr>\n      <th>10677</th>\n      <td>88 Train</td>\n      <td>Amusement Land</td>\n      <td>Steel</td>\n      <td>Sit Down</td>\n      <td>-</td>\n      <td>-</td>\n    </tr>\n    <tr>\n      <th>10678</th>\n      <td>Abandon Mine</td>\n      <td>Uncle Bernie's Theme Park</td>\n      <td>Steel</td>\n      <td>Sit Down</td>\n      <td>Operating</td>\n      <td>2002</td>\n    </tr>\n    <tr>\n      <th>10679</th>\n      <td>Abismo</td>\n      <td>Parque de Atracciones de Madrid</td>\n      <td>Steel</td>\n      <td>Sit Down</td>\n      <td>Operating</td>\n      <td>6/27/2006</td>\n    </tr>\n  </tbody>\n</table>\n<p>10680 rows × 6 columns</p>\n</div>"
     },
     "metadata": {},
     "execution_count": 104
    }
   ],
   "source": [
    "rc_complete = []\n",
    "\n",
    "for i in range(1,446):\n",
    "    url = f'https://rcdb.com/r.htm?ot=2&page={i}'\n",
    "    table1 = coasters[1]\n",
    "    coasters = soup.find_all(\"table\")\n",
    "    #print(len(coasters)) #Output 3\n",
    "\n",
    "# Lets go ahead and scrape first table with HTML code gdp[0]\n",
    "    table1 = gdp[1]\n",
    "\n",
    "# the head will form our column names\n",
    "    body = table1.find_all(\"tr\")\n",
    "\n",
    "# Head values (Column names) are the first items of the body list\n",
    "    head = body[0] # 0th item is the header row\n",
    "    body_rows = body[1:] # All other items becomes the rest of the rows\n",
    "\n",
    "# Lets now iterate through the head HTML code and make list of clean headings\n",
    "\n",
    "# Declare empty list to keep Columns names\n",
    "    headings = []\n",
    "    for item in head.find_all(\"th\"): # loop through all th elements\n",
    "    # convert the th elements to text and strip \"\\n\"\n",
    "        item = (item.text).rstrip(\"\\n\")\n",
    "    # append the clean column name to headings\n",
    "        headings.append(item)\n",
    "    #print(headings)\n",
    "\n",
    "# Next is now to loop though the rest of the rows\n",
    "\n",
    "#print(body_rows[0])\n",
    "    all_rows = [] # will be a list for list for all rows\n",
    "    for row_num in range(len(body_rows)): # A row at a time\n",
    "        row = [] # this will old entries for one row\n",
    "        for row_item in body_rows[row_num].find_all(\"td\"): #loop through all row entries\n",
    "        # row_item.text removes the tags from the entries\n",
    "        # the following regex is to remove \\xa0 and \\n and comma from row_item.text\n",
    "        # xa0 encodes the flag, \\n is the newline and comma separates thousands in numbers\n",
    "            aa = re.sub(\"(\\xa0)|(\\n)|,\",\"\",row_item.text)\n",
    "        #append aa to row - note one row entry is being appended\n",
    "            row.append(aa)\n",
    "    # append one row to all_rows\n",
    "        all_rows.append(row)\n",
    "\n",
    "# We can now use the data on all_rowsa and headings to make a table\n",
    "# all_rows becomes our data and headings the column names\n",
    "    complete_df = pd.DataFrame(data=all_rows,columns=headings)\n",
    "    rc_complete.append(complete_df)\n",
    "    rc_complete_df = pd.concat(rc_complete, ignore_index=True)\n",
    "    rc_final = rc_complete_df.drop(columns=[''])\n",
    "rc_final"
   ]
  },
  {
   "cell_type": "code",
   "execution_count": 105,
   "metadata": {},
   "outputs": [],
   "source": [
    "rc_final['Opened'] = rc_final['Opened'].str[-4:]"
   ]
  },
  {
   "cell_type": "code",
   "execution_count": 106,
   "metadata": {},
   "outputs": [
    {
     "output_type": "execute_result",
     "data": {
      "text/plain": [
       "                     Roller Coaster                   Amusement Park   Type  \\\n",
       "0                      €uro-Coaster                    Wiener Prater  Steel   \n",
       "1                      €uro Coaster               Funland Theme Park  Steel   \n",
       "2                              1066                        Festyland  Steel   \n",
       "3       10 Inversion Roller Coaster               Chimelong Paradise  Steel   \n",
       "4      1970 Galaxy Rip Tide Coaster    Swampy Jack's Wongo Adventure  Steel   \n",
       "...                             ...                              ...    ...   \n",
       "10675                       7 Picos  Parque de Atracciones de Madrid  Steel   \n",
       "10676                      88 Train            Children's Grand Park  Steel   \n",
       "10677                      88 Train                   Amusement Land  Steel   \n",
       "10678                  Abandon Mine        Uncle Bernie's Theme Park  Steel   \n",
       "10679                        Abismo  Parque de Atracciones de Madrid  Steel   \n",
       "\n",
       "          Design     Status Opened  \n",
       "0      Suspended        NaN   2020  \n",
       "1       Sit Down  Operating   2021  \n",
       "2       Sit Down  Operating   2005  \n",
       "3       Sit Down  Operating   2006  \n",
       "4       Sit Down  Relocated   2014  \n",
       "...          ...        ...    ...  \n",
       "10675   Sit Down        NaN   1969  \n",
       "10676   Sit Down        NaN   1984  \n",
       "10677   Sit Down        NaN    NaN  \n",
       "10678   Sit Down  Operating   2002  \n",
       "10679   Sit Down  Operating   2006  \n",
       "\n",
       "[10680 rows x 6 columns]"
      ],
      "text/html": "<div>\n<style scoped>\n    .dataframe tbody tr th:only-of-type {\n        vertical-align: middle;\n    }\n\n    .dataframe tbody tr th {\n        vertical-align: top;\n    }\n\n    .dataframe thead th {\n        text-align: right;\n    }\n</style>\n<table border=\"1\" class=\"dataframe\">\n  <thead>\n    <tr style=\"text-align: right;\">\n      <th></th>\n      <th>Roller Coaster</th>\n      <th>Amusement Park</th>\n      <th>Type</th>\n      <th>Design</th>\n      <th>Status</th>\n      <th>Opened</th>\n    </tr>\n  </thead>\n  <tbody>\n    <tr>\n      <th>0</th>\n      <td>€uro-Coaster</td>\n      <td>Wiener Prater</td>\n      <td>Steel</td>\n      <td>Suspended</td>\n      <td>NaN</td>\n      <td>2020</td>\n    </tr>\n    <tr>\n      <th>1</th>\n      <td>€uro Coaster</td>\n      <td>Funland Theme Park</td>\n      <td>Steel</td>\n      <td>Sit Down</td>\n      <td>Operating</td>\n      <td>2021</td>\n    </tr>\n    <tr>\n      <th>2</th>\n      <td>1066</td>\n      <td>Festyland</td>\n      <td>Steel</td>\n      <td>Sit Down</td>\n      <td>Operating</td>\n      <td>2005</td>\n    </tr>\n    <tr>\n      <th>3</th>\n      <td>10 Inversion Roller Coaster</td>\n      <td>Chimelong Paradise</td>\n      <td>Steel</td>\n      <td>Sit Down</td>\n      <td>Operating</td>\n      <td>2006</td>\n    </tr>\n    <tr>\n      <th>4</th>\n      <td>1970 Galaxy Rip Tide Coaster</td>\n      <td>Swampy Jack's Wongo Adventure</td>\n      <td>Steel</td>\n      <td>Sit Down</td>\n      <td>Relocated</td>\n      <td>2014</td>\n    </tr>\n    <tr>\n      <th>...</th>\n      <td>...</td>\n      <td>...</td>\n      <td>...</td>\n      <td>...</td>\n      <td>...</td>\n      <td>...</td>\n    </tr>\n    <tr>\n      <th>10675</th>\n      <td>7 Picos</td>\n      <td>Parque de Atracciones de Madrid</td>\n      <td>Steel</td>\n      <td>Sit Down</td>\n      <td>NaN</td>\n      <td>1969</td>\n    </tr>\n    <tr>\n      <th>10676</th>\n      <td>88 Train</td>\n      <td>Children's Grand Park</td>\n      <td>Steel</td>\n      <td>Sit Down</td>\n      <td>NaN</td>\n      <td>1984</td>\n    </tr>\n    <tr>\n      <th>10677</th>\n      <td>88 Train</td>\n      <td>Amusement Land</td>\n      <td>Steel</td>\n      <td>Sit Down</td>\n      <td>NaN</td>\n      <td>NaN</td>\n    </tr>\n    <tr>\n      <th>10678</th>\n      <td>Abandon Mine</td>\n      <td>Uncle Bernie's Theme Park</td>\n      <td>Steel</td>\n      <td>Sit Down</td>\n      <td>Operating</td>\n      <td>2002</td>\n    </tr>\n    <tr>\n      <th>10679</th>\n      <td>Abismo</td>\n      <td>Parque de Atracciones de Madrid</td>\n      <td>Steel</td>\n      <td>Sit Down</td>\n      <td>Operating</td>\n      <td>2006</td>\n    </tr>\n  </tbody>\n</table>\n<p>10680 rows × 6 columns</p>\n</div>"
     },
     "metadata": {},
     "execution_count": 106
    }
   ],
   "source": [
    "rc_done = rc_final.replace('-',np.nan)\n",
    "rc_done"
   ]
  },
  {
   "cell_type": "code",
   "execution_count": 107,
   "metadata": {
    "tags": []
   },
   "outputs": [],
   "source": [
    "rc_done.to_json(\"rcdb.json\", orient='columns')\n"
   ]
  },
  {
   "cell_type": "code",
   "execution_count": 108,
   "metadata": {},
   "outputs": [],
   "source": [
    "rc_done.to_json(\"rcdb_split.json\", orient='split')"
   ]
  },
  {
   "cell_type": "code",
   "execution_count": 109,
   "metadata": {},
   "outputs": [],
   "source": [
    "rc_done.to_csv(\"rcdb_with_years.csv\", index=False)"
   ]
  },
  {
   "cell_type": "code",
   "execution_count": 110,
   "metadata": {},
   "outputs": [
    {
     "output_type": "execute_result",
     "data": {
      "text/plain": [
       "                     Roller Coaster                   Amusement Park   Type  \\\n",
       "0                      €uro-Coaster                    Wiener Prater  Steel   \n",
       "1                      €uro Coaster               Funland Theme Park  Steel   \n",
       "2                              1066                        Festyland  Steel   \n",
       "3       10 Inversion Roller Coaster               Chimelong Paradise  Steel   \n",
       "4      1970 Galaxy Rip Tide Coaster    Swampy Jack's Wongo Adventure  Steel   \n",
       "...                             ...                              ...    ...   \n",
       "10675                       7 Picos  Parque de Atracciones de Madrid  Steel   \n",
       "10676                      88 Train            Children's Grand Park  Steel   \n",
       "10677                      88 Train                   Amusement Land  Steel   \n",
       "10678                  Abandon Mine        Uncle Bernie's Theme Park  Steel   \n",
       "10679                        Abismo  Parque de Atracciones de Madrid  Steel   \n",
       "\n",
       "          Design     Status Opened  \n",
       "0      Suspended        NaN   2020  \n",
       "1       Sit Down  Operating   2021  \n",
       "2       Sit Down  Operating   2005  \n",
       "3       Sit Down  Operating   2006  \n",
       "4       Sit Down  Relocated   2014  \n",
       "...          ...        ...    ...  \n",
       "10675   Sit Down        NaN   1969  \n",
       "10676   Sit Down        NaN   1984  \n",
       "10677   Sit Down        NaN    NaN  \n",
       "10678   Sit Down  Operating   2002  \n",
       "10679   Sit Down  Operating   2006  \n",
       "\n",
       "[10680 rows x 6 columns]"
      ],
      "text/html": "<div>\n<style scoped>\n    .dataframe tbody tr th:only-of-type {\n        vertical-align: middle;\n    }\n\n    .dataframe tbody tr th {\n        vertical-align: top;\n    }\n\n    .dataframe thead th {\n        text-align: right;\n    }\n</style>\n<table border=\"1\" class=\"dataframe\">\n  <thead>\n    <tr style=\"text-align: right;\">\n      <th></th>\n      <th>Roller Coaster</th>\n      <th>Amusement Park</th>\n      <th>Type</th>\n      <th>Design</th>\n      <th>Status</th>\n      <th>Opened</th>\n    </tr>\n  </thead>\n  <tbody>\n    <tr>\n      <th>0</th>\n      <td>€uro-Coaster</td>\n      <td>Wiener Prater</td>\n      <td>Steel</td>\n      <td>Suspended</td>\n      <td>NaN</td>\n      <td>2020</td>\n    </tr>\n    <tr>\n      <th>1</th>\n      <td>€uro Coaster</td>\n      <td>Funland Theme Park</td>\n      <td>Steel</td>\n      <td>Sit Down</td>\n      <td>Operating</td>\n      <td>2021</td>\n    </tr>\n    <tr>\n      <th>2</th>\n      <td>1066</td>\n      <td>Festyland</td>\n      <td>Steel</td>\n      <td>Sit Down</td>\n      <td>Operating</td>\n      <td>2005</td>\n    </tr>\n    <tr>\n      <th>3</th>\n      <td>10 Inversion Roller Coaster</td>\n      <td>Chimelong Paradise</td>\n      <td>Steel</td>\n      <td>Sit Down</td>\n      <td>Operating</td>\n      <td>2006</td>\n    </tr>\n    <tr>\n      <th>4</th>\n      <td>1970 Galaxy Rip Tide Coaster</td>\n      <td>Swampy Jack's Wongo Adventure</td>\n      <td>Steel</td>\n      <td>Sit Down</td>\n      <td>Relocated</td>\n      <td>2014</td>\n    </tr>\n    <tr>\n      <th>...</th>\n      <td>...</td>\n      <td>...</td>\n      <td>...</td>\n      <td>...</td>\n      <td>...</td>\n      <td>...</td>\n    </tr>\n    <tr>\n      <th>10675</th>\n      <td>7 Picos</td>\n      <td>Parque de Atracciones de Madrid</td>\n      <td>Steel</td>\n      <td>Sit Down</td>\n      <td>NaN</td>\n      <td>1969</td>\n    </tr>\n    <tr>\n      <th>10676</th>\n      <td>88 Train</td>\n      <td>Children's Grand Park</td>\n      <td>Steel</td>\n      <td>Sit Down</td>\n      <td>NaN</td>\n      <td>1984</td>\n    </tr>\n    <tr>\n      <th>10677</th>\n      <td>88 Train</td>\n      <td>Amusement Land</td>\n      <td>Steel</td>\n      <td>Sit Down</td>\n      <td>NaN</td>\n      <td>NaN</td>\n    </tr>\n    <tr>\n      <th>10678</th>\n      <td>Abandon Mine</td>\n      <td>Uncle Bernie's Theme Park</td>\n      <td>Steel</td>\n      <td>Sit Down</td>\n      <td>Operating</td>\n      <td>2002</td>\n    </tr>\n    <tr>\n      <th>10679</th>\n      <td>Abismo</td>\n      <td>Parque de Atracciones de Madrid</td>\n      <td>Steel</td>\n      <td>Sit Down</td>\n      <td>Operating</td>\n      <td>2006</td>\n    </tr>\n  </tbody>\n</table>\n<p>10680 rows × 6 columns</p>\n</div>"
     },
     "metadata": {},
     "execution_count": 110
    }
   ],
   "source": [
    "rc_done"
   ]
  },
  {
   "cell_type": "code",
   "execution_count": 111,
   "metadata": {},
   "outputs": [],
   "source": [
    "rc_done['Opened'] = pd.to_datetime(rc_done['Opened'], format='%Y', errors='coerce')\n",
    "rc_done.to_csv(\"rcdb_w_years_dtformat.csv\", index=False)"
   ]
  },
  {
   "cell_type": "code",
   "execution_count": 112,
   "metadata": {},
   "outputs": [],
   "source": [
    "rc_done.to_json(\"rcdb_dtformat.json\")\n"
   ]
  },
  {
   "cell_type": "code",
   "execution_count": 113,
   "metadata": {},
   "outputs": [],
   "source": [
    "rc_done.to_json(\"rcdb_dtformat_split.json\", orient='split')"
   ]
  },
  {
   "cell_type": "code",
   "execution_count": 114,
   "metadata": {},
   "outputs": [
    {
     "output_type": "execute_result",
     "data": {
      "text/plain": [
       "    Rank      Speed                                     Roller Coaster  \\\n",
       "0    1st  149.1 mph                                      Formula Rossa   \n",
       "1    2nd    128 mph                                          Kingda Ka   \n",
       "2    3rd    120 mph                                Top Thrill Dragster   \n",
       "3    4th  111.8 mph                                Do-DodonpaRed Force   \n",
       "4    5th    100 mph                      Superman: Escape from Krypton   \n",
       "5      *   99.4 mph                                         Ring Racer   \n",
       "6    6th     95 mph                          Steel Dragon 2000Fury 325   \n",
       "7    7th     93 mph                                   Millennium Force   \n",
       "8    8th     92 mph                                          Leviathan   \n",
       "9    9th     91 mph                                              Orion   \n",
       "10  10th     90 mph                                    Intimidator 305   \n",
       "11     *          *  Rankings are not assigned to roller coasters t...   \n",
       "\n",
       "                            Amusement Park (Location)  \\\n",
       "0   Ferrari World Abu Dhabi (Abu Dhabi, Abu Dhabi,...   \n",
       "1   Six Flags Great Adventure (Jackson, New Jersey...   \n",
       "2         Cedar Point (Sandusky, Ohio, United States)   \n",
       "3   Fuji-Q Highland (Fujiyoshida, Yamanashi, Japan...   \n",
       "4   Six Flags Magic Mountain (Valencia, California...   \n",
       "5   NÃ¼rburgring (NÃ¼rburg, Rhineland-Palatinate, ...   \n",
       "6   Nagashima Spa Land (Kuwana, Mie, Japan)Carowin...   \n",
       "7         Cedar Point (Sandusky, Ohio, United States)   \n",
       "8      Canada's Wonderland (Vaughan, Ontario, Canada)   \n",
       "9           Kings Island (Mason, Ohio, United States)   \n",
       "10  Kings Dominion (Doswell, Virginia, United States)   \n",
       "11  Rankings are not assigned to roller coasters t...   \n",
       "\n",
       "                                               Opened  \n",
       "0                                                 NaN  \n",
       "1                                                 NaN  \n",
       "2                                                 NaN  \n",
       "3                                                 NaN  \n",
       "4                                                 NaN  \n",
       "5                                                 NaN  \n",
       "6                                                 NaN  \n",
       "7                                                 NaN  \n",
       "8                                                 NaN  \n",
       "9                                                 NaN  \n",
       "10                                                NaN  \n",
       "11  Rankings are not assigned to roller coasters t...  "
      ],
      "text/html": "<div>\n<style scoped>\n    .dataframe tbody tr th:only-of-type {\n        vertical-align: middle;\n    }\n\n    .dataframe tbody tr th {\n        vertical-align: top;\n    }\n\n    .dataframe thead th {\n        text-align: right;\n    }\n</style>\n<table border=\"1\" class=\"dataframe\">\n  <thead>\n    <tr style=\"text-align: right;\">\n      <th></th>\n      <th>Rank</th>\n      <th>Speed</th>\n      <th>Roller Coaster</th>\n      <th>Amusement Park (Location)</th>\n      <th>Opened</th>\n    </tr>\n  </thead>\n  <tbody>\n    <tr>\n      <th>0</th>\n      <td>1st</td>\n      <td>149.1 mph</td>\n      <td>Formula Rossa</td>\n      <td>Ferrari World Abu Dhabi (Abu Dhabi, Abu Dhabi,...</td>\n      <td>NaN</td>\n    </tr>\n    <tr>\n      <th>1</th>\n      <td>2nd</td>\n      <td>128 mph</td>\n      <td>Kingda Ka</td>\n      <td>Six Flags Great Adventure (Jackson, New Jersey...</td>\n      <td>NaN</td>\n    </tr>\n    <tr>\n      <th>2</th>\n      <td>3rd</td>\n      <td>120 mph</td>\n      <td>Top Thrill Dragster</td>\n      <td>Cedar Point (Sandusky, Ohio, United States)</td>\n      <td>NaN</td>\n    </tr>\n    <tr>\n      <th>3</th>\n      <td>4th</td>\n      <td>111.8 mph</td>\n      <td>Do-DodonpaRed Force</td>\n      <td>Fuji-Q Highland (Fujiyoshida, Yamanashi, Japan...</td>\n      <td>NaN</td>\n    </tr>\n    <tr>\n      <th>4</th>\n      <td>5th</td>\n      <td>100 mph</td>\n      <td>Superman: Escape from Krypton</td>\n      <td>Six Flags Magic Mountain (Valencia, California...</td>\n      <td>NaN</td>\n    </tr>\n    <tr>\n      <th>5</th>\n      <td>*</td>\n      <td>99.4 mph</td>\n      <td>Ring Racer</td>\n      <td>NÃ¼rburgring (NÃ¼rburg, Rhineland-Palatinate, ...</td>\n      <td>NaN</td>\n    </tr>\n    <tr>\n      <th>6</th>\n      <td>6th</td>\n      <td>95 mph</td>\n      <td>Steel Dragon 2000Fury 325</td>\n      <td>Nagashima Spa Land (Kuwana, Mie, Japan)Carowin...</td>\n      <td>NaN</td>\n    </tr>\n    <tr>\n      <th>7</th>\n      <td>7th</td>\n      <td>93 mph</td>\n      <td>Millennium Force</td>\n      <td>Cedar Point (Sandusky, Ohio, United States)</td>\n      <td>NaN</td>\n    </tr>\n    <tr>\n      <th>8</th>\n      <td>8th</td>\n      <td>92 mph</td>\n      <td>Leviathan</td>\n      <td>Canada's Wonderland (Vaughan, Ontario, Canada)</td>\n      <td>NaN</td>\n    </tr>\n    <tr>\n      <th>9</th>\n      <td>9th</td>\n      <td>91 mph</td>\n      <td>Orion</td>\n      <td>Kings Island (Mason, Ohio, United States)</td>\n      <td>NaN</td>\n    </tr>\n    <tr>\n      <th>10</th>\n      <td>10th</td>\n      <td>90 mph</td>\n      <td>Intimidator 305</td>\n      <td>Kings Dominion (Doswell, Virginia, United States)</td>\n      <td>NaN</td>\n    </tr>\n    <tr>\n      <th>11</th>\n      <td>*</td>\n      <td>*</td>\n      <td>Rankings are not assigned to roller coasters t...</td>\n      <td>Rankings are not assigned to roller coasters t...</td>\n      <td>Rankings are not assigned to roller coasters t...</td>\n    </tr>\n  </tbody>\n</table>\n</div>"
     },
     "metadata": {},
     "execution_count": 114
    }
   ],
   "source": [
    "#Speed Record Holders\n",
    "url = 'https://rcdb.com/rhr.htm'\n",
    "\n",
    "dfs = pd.read_html(url)\n",
    "speed_df = dfs[1]\n",
    "speed_df"
   ]
  },
  {
   "cell_type": "code",
   "execution_count": 115,
   "metadata": {},
   "outputs": [
    {
     "output_type": "execute_result",
     "data": {
      "text/plain": [
       "   Rank    Height                 Roller Coaster  \\\n",
       "0   1st    456 ft                      Kingda Ka   \n",
       "1   2nd    420 ft            Top Thrill Dragster   \n",
       "2   3rd    415 ft  Superman: Escape from Krypton   \n",
       "3   4th  367.3 ft                      Red Force   \n",
       "4   5th    325 ft                       Fury 325   \n",
       "5   6th  318.3 ft              Steel Dragon 2000   \n",
       "6   7th    310 ft               Millennium Force   \n",
       "7   8th    306 ft                      Leviathan   \n",
       "8   9th    305 ft                Intimidator 305   \n",
       "9  10th    287 ft                          Orion   \n",
       "\n",
       "                           Amusement Park (Location)  Opened  \n",
       "0  Six Flags Great Adventure (Jackson, New Jersey...     NaN  \n",
       "1        Cedar Point (Sandusky, Ohio, United States)     NaN  \n",
       "2  Six Flags Magic Mountain (Valencia, California...     NaN  \n",
       "3  Ferrari Land (Salou, Tarragona, Catalonia, Spain)     NaN  \n",
       "4  Carowinds (Charlotte, North Carolina, United S...     NaN  \n",
       "5            Nagashima Spa Land (Kuwana, Mie, Japan)     NaN  \n",
       "6        Cedar Point (Sandusky, Ohio, United States)     NaN  \n",
       "7     Canada's Wonderland (Vaughan, Ontario, Canada)     NaN  \n",
       "8  Kings Dominion (Doswell, Virginia, United States)     NaN  \n",
       "9          Kings Island (Mason, Ohio, United States)     NaN  "
      ],
      "text/html": "<div>\n<style scoped>\n    .dataframe tbody tr th:only-of-type {\n        vertical-align: middle;\n    }\n\n    .dataframe tbody tr th {\n        vertical-align: top;\n    }\n\n    .dataframe thead th {\n        text-align: right;\n    }\n</style>\n<table border=\"1\" class=\"dataframe\">\n  <thead>\n    <tr style=\"text-align: right;\">\n      <th></th>\n      <th>Rank</th>\n      <th>Height</th>\n      <th>Roller Coaster</th>\n      <th>Amusement Park (Location)</th>\n      <th>Opened</th>\n    </tr>\n  </thead>\n  <tbody>\n    <tr>\n      <th>0</th>\n      <td>1st</td>\n      <td>456 ft</td>\n      <td>Kingda Ka</td>\n      <td>Six Flags Great Adventure (Jackson, New Jersey...</td>\n      <td>NaN</td>\n    </tr>\n    <tr>\n      <th>1</th>\n      <td>2nd</td>\n      <td>420 ft</td>\n      <td>Top Thrill Dragster</td>\n      <td>Cedar Point (Sandusky, Ohio, United States)</td>\n      <td>NaN</td>\n    </tr>\n    <tr>\n      <th>2</th>\n      <td>3rd</td>\n      <td>415 ft</td>\n      <td>Superman: Escape from Krypton</td>\n      <td>Six Flags Magic Mountain (Valencia, California...</td>\n      <td>NaN</td>\n    </tr>\n    <tr>\n      <th>3</th>\n      <td>4th</td>\n      <td>367.3 ft</td>\n      <td>Red Force</td>\n      <td>Ferrari Land (Salou, Tarragona, Catalonia, Spain)</td>\n      <td>NaN</td>\n    </tr>\n    <tr>\n      <th>4</th>\n      <td>5th</td>\n      <td>325 ft</td>\n      <td>Fury 325</td>\n      <td>Carowinds (Charlotte, North Carolina, United S...</td>\n      <td>NaN</td>\n    </tr>\n    <tr>\n      <th>5</th>\n      <td>6th</td>\n      <td>318.3 ft</td>\n      <td>Steel Dragon 2000</td>\n      <td>Nagashima Spa Land (Kuwana, Mie, Japan)</td>\n      <td>NaN</td>\n    </tr>\n    <tr>\n      <th>6</th>\n      <td>7th</td>\n      <td>310 ft</td>\n      <td>Millennium Force</td>\n      <td>Cedar Point (Sandusky, Ohio, United States)</td>\n      <td>NaN</td>\n    </tr>\n    <tr>\n      <th>7</th>\n      <td>8th</td>\n      <td>306 ft</td>\n      <td>Leviathan</td>\n      <td>Canada's Wonderland (Vaughan, Ontario, Canada)</td>\n      <td>NaN</td>\n    </tr>\n    <tr>\n      <th>8</th>\n      <td>9th</td>\n      <td>305 ft</td>\n      <td>Intimidator 305</td>\n      <td>Kings Dominion (Doswell, Virginia, United States)</td>\n      <td>NaN</td>\n    </tr>\n    <tr>\n      <th>9</th>\n      <td>10th</td>\n      <td>287 ft</td>\n      <td>Orion</td>\n      <td>Kings Island (Mason, Ohio, United States)</td>\n      <td>NaN</td>\n    </tr>\n  </tbody>\n</table>\n</div>"
     },
     "metadata": {},
     "execution_count": 115
    }
   ],
   "source": [
    "\n",
    "#Height Record Holders\n",
    "url = 'https://rcdb.com/rhr.htm?m=1'\n",
    "\n",
    "dfs = pd.read_html(url)\n",
    "height_df = dfs[1]\n",
    "height_df"
   ]
  },
  {
   "cell_type": "code",
   "execution_count": 116,
   "metadata": {},
   "outputs": [
    {
     "output_type": "execute_result",
     "data": {
      "text/plain": [
       "    Rank     Length                                     Roller Coaster  \\\n",
       "0    1st  8133.2 ft                                  Steel Dragon 2000   \n",
       "1      *    7442 ft                                           Ultimate   \n",
       "2    2nd    7359 ft                                              Beast   \n",
       "3    3rd  6708.7 ft                                           Fujiyama   \n",
       "4    4th    6602 ft                                           Fury 325   \n",
       "5    5th    6595 ft                                   Millennium Force   \n",
       "6    6th  6561.7 ft                                      Formula Rossa   \n",
       "7    7th    6442 ft                                             Voyage   \n",
       "8    8th    6072 ft                                     Incredicoaster   \n",
       "9    9th    5843 ft                                          Desperado   \n",
       "10  10th    5740 ft                                    Steel Vengeance   \n",
       "11     *          *  Rankings are not assigned to roller coasters t...   \n",
       "\n",
       "                            Amusement Park (Location)  \\\n",
       "0             Nagashima Spa Land (Kuwana, Mie, Japan)   \n",
       "1   Lightwater Valley (Ripon, North Yorkshire, Eng...   \n",
       "2           Kings Island (Mason, Ohio, United States)   \n",
       "3     Fuji-Q Highland (Fujiyoshida, Yamanashi, Japan)   \n",
       "4   Carowinds (Charlotte, North Carolina, United S...   \n",
       "5         Cedar Point (Sandusky, Ohio, United States)   \n",
       "6   Ferrari World Abu Dhabi (Abu Dhabi, Abu Dhabi,...   \n",
       "7   Holiday World (Santa Claus, Indiana, United St...   \n",
       "8   Disney California Adventure Park (Anaheim, Cal...   \n",
       "9   Buffalo Bill's Resort & Casino (Primm, Nevada,...   \n",
       "10        Cedar Point (Sandusky, Ohio, United States)   \n",
       "11  Rankings are not assigned to roller coasters t...   \n",
       "\n",
       "                                               Opened  \n",
       "0                                                 NaN  \n",
       "1                                                 NaN  \n",
       "2                                                 NaN  \n",
       "3                                                 NaN  \n",
       "4                                                 NaN  \n",
       "5                                                 NaN  \n",
       "6                                                 NaN  \n",
       "7                                                 NaN  \n",
       "8                                                 NaN  \n",
       "9                                                 NaN  \n",
       "10                                                NaN  \n",
       "11  Rankings are not assigned to roller coasters t...  "
      ],
      "text/html": "<div>\n<style scoped>\n    .dataframe tbody tr th:only-of-type {\n        vertical-align: middle;\n    }\n\n    .dataframe tbody tr th {\n        vertical-align: top;\n    }\n\n    .dataframe thead th {\n        text-align: right;\n    }\n</style>\n<table border=\"1\" class=\"dataframe\">\n  <thead>\n    <tr style=\"text-align: right;\">\n      <th></th>\n      <th>Rank</th>\n      <th>Length</th>\n      <th>Roller Coaster</th>\n      <th>Amusement Park (Location)</th>\n      <th>Opened</th>\n    </tr>\n  </thead>\n  <tbody>\n    <tr>\n      <th>0</th>\n      <td>1st</td>\n      <td>8133.2 ft</td>\n      <td>Steel Dragon 2000</td>\n      <td>Nagashima Spa Land (Kuwana, Mie, Japan)</td>\n      <td>NaN</td>\n    </tr>\n    <tr>\n      <th>1</th>\n      <td>*</td>\n      <td>7442 ft</td>\n      <td>Ultimate</td>\n      <td>Lightwater Valley (Ripon, North Yorkshire, Eng...</td>\n      <td>NaN</td>\n    </tr>\n    <tr>\n      <th>2</th>\n      <td>2nd</td>\n      <td>7359 ft</td>\n      <td>Beast</td>\n      <td>Kings Island (Mason, Ohio, United States)</td>\n      <td>NaN</td>\n    </tr>\n    <tr>\n      <th>3</th>\n      <td>3rd</td>\n      <td>6708.7 ft</td>\n      <td>Fujiyama</td>\n      <td>Fuji-Q Highland (Fujiyoshida, Yamanashi, Japan)</td>\n      <td>NaN</td>\n    </tr>\n    <tr>\n      <th>4</th>\n      <td>4th</td>\n      <td>6602 ft</td>\n      <td>Fury 325</td>\n      <td>Carowinds (Charlotte, North Carolina, United S...</td>\n      <td>NaN</td>\n    </tr>\n    <tr>\n      <th>5</th>\n      <td>5th</td>\n      <td>6595 ft</td>\n      <td>Millennium Force</td>\n      <td>Cedar Point (Sandusky, Ohio, United States)</td>\n      <td>NaN</td>\n    </tr>\n    <tr>\n      <th>6</th>\n      <td>6th</td>\n      <td>6561.7 ft</td>\n      <td>Formula Rossa</td>\n      <td>Ferrari World Abu Dhabi (Abu Dhabi, Abu Dhabi,...</td>\n      <td>NaN</td>\n    </tr>\n    <tr>\n      <th>7</th>\n      <td>7th</td>\n      <td>6442 ft</td>\n      <td>Voyage</td>\n      <td>Holiday World (Santa Claus, Indiana, United St...</td>\n      <td>NaN</td>\n    </tr>\n    <tr>\n      <th>8</th>\n      <td>8th</td>\n      <td>6072 ft</td>\n      <td>Incredicoaster</td>\n      <td>Disney California Adventure Park (Anaheim, Cal...</td>\n      <td>NaN</td>\n    </tr>\n    <tr>\n      <th>9</th>\n      <td>9th</td>\n      <td>5843 ft</td>\n      <td>Desperado</td>\n      <td>Buffalo Bill's Resort &amp; Casino (Primm, Nevada,...</td>\n      <td>NaN</td>\n    </tr>\n    <tr>\n      <th>10</th>\n      <td>10th</td>\n      <td>5740 ft</td>\n      <td>Steel Vengeance</td>\n      <td>Cedar Point (Sandusky, Ohio, United States)</td>\n      <td>NaN</td>\n    </tr>\n    <tr>\n      <th>11</th>\n      <td>*</td>\n      <td>*</td>\n      <td>Rankings are not assigned to roller coasters t...</td>\n      <td>Rankings are not assigned to roller coasters t...</td>\n      <td>Rankings are not assigned to roller coasters t...</td>\n    </tr>\n  </tbody>\n</table>\n</div>"
     },
     "metadata": {},
     "execution_count": 116
    }
   ],
   "source": [
    "#Length \n",
    "url = 'https://rcdb.com/rhr.htm?m=2'\n",
    "\n",
    "dfs = pd.read_html(url)\n",
    "length_df = dfs[1]\n",
    "length_df"
   ]
  },
  {
   "cell_type": "code",
   "execution_count": 117,
   "metadata": {},
   "outputs": [
    {
     "output_type": "execute_result",
     "data": {
      "text/plain": [
       "    Rank     Length                                     Roller Coaster  \\\n",
       "0    1st  8133.2 ft                                  Steel Dragon 2000   \n",
       "1      *    7442 ft                                           Ultimate   \n",
       "2    2nd    7359 ft                                              Beast   \n",
       "3    3rd  6708.7 ft                                           Fujiyama   \n",
       "4    4th    6602 ft                                           Fury 325   \n",
       "5    5th    6595 ft                                   Millennium Force   \n",
       "6    6th  6561.7 ft                                      Formula Rossa   \n",
       "7    7th    6442 ft                                             Voyage   \n",
       "8    8th    6072 ft                                     Incredicoaster   \n",
       "9    9th    5843 ft                                          Desperado   \n",
       "10  10th    5740 ft                                    Steel Vengeance   \n",
       "11     *          *  Rankings are not assigned to roller coasters t...   \n",
       "\n",
       "                            Amusement Park (Location)  \\\n",
       "0             Nagashima Spa Land (Kuwana, Mie, Japan)   \n",
       "1   Lightwater Valley (Ripon, North Yorkshire, Eng...   \n",
       "2           Kings Island (Mason, Ohio, United States)   \n",
       "3     Fuji-Q Highland (Fujiyoshida, Yamanashi, Japan)   \n",
       "4   Carowinds (Charlotte, North Carolina, United S...   \n",
       "5         Cedar Point (Sandusky, Ohio, United States)   \n",
       "6   Ferrari World Abu Dhabi (Abu Dhabi, Abu Dhabi,...   \n",
       "7   Holiday World (Santa Claus, Indiana, United St...   \n",
       "8   Disney California Adventure Park (Anaheim, Cal...   \n",
       "9   Buffalo Bill's Resort & Casino (Primm, Nevada,...   \n",
       "10        Cedar Point (Sandusky, Ohio, United States)   \n",
       "11  Rankings are not assigned to roller coasters t...   \n",
       "\n",
       "                                               Opened  \\\n",
       "0                                                 NaN   \n",
       "1                                                 NaN   \n",
       "2                                                 NaN   \n",
       "3                                                 NaN   \n",
       "4                                                 NaN   \n",
       "5                                                 NaN   \n",
       "6                                                 NaN   \n",
       "7                                                 NaN   \n",
       "8                                                 NaN   \n",
       "9                                                 NaN   \n",
       "10                                                NaN   \n",
       "11  Rankings are not assigned to roller coasters t...   \n",
       "\n",
       "                                       Amusement Park  \\\n",
       "0                                 Nagashima Spa Land    \n",
       "1                                  Lightwater Valley    \n",
       "2                                       Kings Island    \n",
       "3                                    Fuji-Q Highland    \n",
       "4                                          Carowinds    \n",
       "5                                        Cedar Point    \n",
       "6                            Ferrari World Abu Dhabi    \n",
       "7                                      Holiday World    \n",
       "8                   Disney California Adventure Park    \n",
       "9                     Buffalo Bill's Resort & Casino    \n",
       "10                                       Cedar Point    \n",
       "11  Rankings are not assigned to roller coasters t...   \n",
       "\n",
       "                                            Location  \n",
       "0                                Kuwana, Mie, Japan)  \n",
       "1   Ripon, North Yorkshire, England, United Kingdom)  \n",
       "2                        Mason, Ohio, United States)  \n",
       "3                     Fujiyoshida, Yamanashi, Japan)  \n",
       "4          Charlotte, North Carolina, United States)  \n",
       "5                     Sandusky, Ohio, United States)  \n",
       "6        Abu Dhabi, Abu Dhabi, United Arab Emirates)  \n",
       "7               Santa Claus, Indiana, United States)  \n",
       "8                Anaheim, California, United States)  \n",
       "9                      Primm, Nevada, United States)  \n",
       "10                    Sandusky, Ohio, United States)  \n",
       "11                                              None  "
      ],
      "text/html": "<div>\n<style scoped>\n    .dataframe tbody tr th:only-of-type {\n        vertical-align: middle;\n    }\n\n    .dataframe tbody tr th {\n        vertical-align: top;\n    }\n\n    .dataframe thead th {\n        text-align: right;\n    }\n</style>\n<table border=\"1\" class=\"dataframe\">\n  <thead>\n    <tr style=\"text-align: right;\">\n      <th></th>\n      <th>Rank</th>\n      <th>Length</th>\n      <th>Roller Coaster</th>\n      <th>Amusement Park (Location)</th>\n      <th>Opened</th>\n      <th>Amusement Park</th>\n      <th>Location</th>\n    </tr>\n  </thead>\n  <tbody>\n    <tr>\n      <th>0</th>\n      <td>1st</td>\n      <td>8133.2 ft</td>\n      <td>Steel Dragon 2000</td>\n      <td>Nagashima Spa Land (Kuwana, Mie, Japan)</td>\n      <td>NaN</td>\n      <td>Nagashima Spa Land</td>\n      <td>Kuwana, Mie, Japan)</td>\n    </tr>\n    <tr>\n      <th>1</th>\n      <td>*</td>\n      <td>7442 ft</td>\n      <td>Ultimate</td>\n      <td>Lightwater Valley (Ripon, North Yorkshire, Eng...</td>\n      <td>NaN</td>\n      <td>Lightwater Valley</td>\n      <td>Ripon, North Yorkshire, England, United Kingdom)</td>\n    </tr>\n    <tr>\n      <th>2</th>\n      <td>2nd</td>\n      <td>7359 ft</td>\n      <td>Beast</td>\n      <td>Kings Island (Mason, Ohio, United States)</td>\n      <td>NaN</td>\n      <td>Kings Island</td>\n      <td>Mason, Ohio, United States)</td>\n    </tr>\n    <tr>\n      <th>3</th>\n      <td>3rd</td>\n      <td>6708.7 ft</td>\n      <td>Fujiyama</td>\n      <td>Fuji-Q Highland (Fujiyoshida, Yamanashi, Japan)</td>\n      <td>NaN</td>\n      <td>Fuji-Q Highland</td>\n      <td>Fujiyoshida, Yamanashi, Japan)</td>\n    </tr>\n    <tr>\n      <th>4</th>\n      <td>4th</td>\n      <td>6602 ft</td>\n      <td>Fury 325</td>\n      <td>Carowinds (Charlotte, North Carolina, United S...</td>\n      <td>NaN</td>\n      <td>Carowinds</td>\n      <td>Charlotte, North Carolina, United States)</td>\n    </tr>\n    <tr>\n      <th>5</th>\n      <td>5th</td>\n      <td>6595 ft</td>\n      <td>Millennium Force</td>\n      <td>Cedar Point (Sandusky, Ohio, United States)</td>\n      <td>NaN</td>\n      <td>Cedar Point</td>\n      <td>Sandusky, Ohio, United States)</td>\n    </tr>\n    <tr>\n      <th>6</th>\n      <td>6th</td>\n      <td>6561.7 ft</td>\n      <td>Formula Rossa</td>\n      <td>Ferrari World Abu Dhabi (Abu Dhabi, Abu Dhabi,...</td>\n      <td>NaN</td>\n      <td>Ferrari World Abu Dhabi</td>\n      <td>Abu Dhabi, Abu Dhabi, United Arab Emirates)</td>\n    </tr>\n    <tr>\n      <th>7</th>\n      <td>7th</td>\n      <td>6442 ft</td>\n      <td>Voyage</td>\n      <td>Holiday World (Santa Claus, Indiana, United St...</td>\n      <td>NaN</td>\n      <td>Holiday World</td>\n      <td>Santa Claus, Indiana, United States)</td>\n    </tr>\n    <tr>\n      <th>8</th>\n      <td>8th</td>\n      <td>6072 ft</td>\n      <td>Incredicoaster</td>\n      <td>Disney California Adventure Park (Anaheim, Cal...</td>\n      <td>NaN</td>\n      <td>Disney California Adventure Park</td>\n      <td>Anaheim, California, United States)</td>\n    </tr>\n    <tr>\n      <th>9</th>\n      <td>9th</td>\n      <td>5843 ft</td>\n      <td>Desperado</td>\n      <td>Buffalo Bill's Resort &amp; Casino (Primm, Nevada,...</td>\n      <td>NaN</td>\n      <td>Buffalo Bill's Resort &amp; Casino</td>\n      <td>Primm, Nevada, United States)</td>\n    </tr>\n    <tr>\n      <th>10</th>\n      <td>10th</td>\n      <td>5740 ft</td>\n      <td>Steel Vengeance</td>\n      <td>Cedar Point (Sandusky, Ohio, United States)</td>\n      <td>NaN</td>\n      <td>Cedar Point</td>\n      <td>Sandusky, Ohio, United States)</td>\n    </tr>\n    <tr>\n      <th>11</th>\n      <td>*</td>\n      <td>*</td>\n      <td>Rankings are not assigned to roller coasters t...</td>\n      <td>Rankings are not assigned to roller coasters t...</td>\n      <td>Rankings are not assigned to roller coasters t...</td>\n      <td>Rankings are not assigned to roller coasters t...</td>\n      <td>None</td>\n    </tr>\n  </tbody>\n</table>\n</div>"
     },
     "metadata": {},
     "execution_count": 117
    }
   ],
   "source": [
    "length_df[['Amusement Park','Location']] = length_df['Amusement Park (Location)'].str.split('(',expand=True)\n",
    "length_df"
   ]
  },
  {
   "cell_type": "code",
   "execution_count": null,
   "metadata": {},
   "outputs": [],
   "source": []
  }
 ],
 "metadata": {
  "kernelspec": {
   "name": "python3",
   "display_name": "Python 3.6.10 64-bit ('PythonData': conda)"
  },
  "language_info": {
   "codemirror_mode": {
    "name": "ipython",
    "version": 3
   },
   "file_extension": ".py",
   "mimetype": "text/x-python",
   "name": "python",
   "nbconvert_exporter": "python",
   "pygments_lexer": "ipython3",
   "version": "3.6.10"
  },
  "interpreter": {
   "hash": "878543922dfa0db5b921533c15bb17828ca230de8c8fd7e418f81e793bfa1eab"
  }
 },
 "nbformat": 4,
 "nbformat_minor": 4
}